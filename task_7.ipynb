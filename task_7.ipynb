{
  "nbformat": 4,
  "nbformat_minor": 0,
  "metadata": {
    "colab": {
      "provenance": []
    },
    "kernelspec": {
      "name": "python3",
      "display_name": "Python 3"
    },
    "language_info": {
      "name": "python"
    }
  },
  "cells": [
    {
      "cell_type": "code",
      "execution_count": 1,
      "metadata": {
        "id": "cwVSwsmyUbtU"
      },
      "outputs": [],
      "source": [
        "import sqlite3"
      ]
    },
    {
      "cell_type": "code",
      "source": [
        "conn = sqlite3.connect('sales_data.db')"
      ],
      "metadata": {
        "id": "8raJhA1CU5La"
      },
      "execution_count": 2,
      "outputs": []
    },
    {
      "cell_type": "code",
      "source": [
        "cur = conn.cursor()"
      ],
      "metadata": {
        "id": "TyFT7sL2XNlY"
      },
      "execution_count": 3,
      "outputs": []
    },
    {
      "cell_type": "code",
      "source": [
        "# Create the 'sales' table\n",
        "cur.execute('''\n",
        "    CREATE TABLE IF NOT EXISTS sales (\n",
        "        id INTEGER PRIMARY KEY,\n",
        "        product TEXT,\n",
        "        quantity INTEGER,\n",
        "        price REAL\n",
        "    )\n",
        "''')"
      ],
      "metadata": {
        "colab": {
          "base_uri": "https://localhost:8080/"
        },
        "id": "PV15cf75XSrn",
        "outputId": "f6969456-9ac0-4c9a-b5f0-1ea435f3ca54"
      },
      "execution_count": 4,
      "outputs": [
        {
          "output_type": "execute_result",
          "data": {
            "text/plain": [
              "<sqlite3.Cursor at 0x7c1974c0d7c0>"
            ]
          },
          "metadata": {},
          "execution_count": 4
        }
      ]
    },
    {
      "cell_type": "code",
      "source": [
        "\n",
        "# Insert some sample data\n",
        "sales_data = [\n",
        "    ('Product A', 10, 20.0),\n",
        "    ('Product B', 5, 15.0),\n",
        "    ('Product A', 8, 20.0),\n",
        "    ('Product C', 12, 10.0),\n",
        "    ('Product B', 7, 15.0),\n",
        "]"
      ],
      "metadata": {
        "id": "hPKcQ4oCXi4S"
      },
      "execution_count": 5,
      "outputs": []
    },
    {
      "cell_type": "code",
      "source": [
        "cur.executemany('INSERT INTO sales (product, quantity, price) VALUES (?, ?, ?)', sales_data)"
      ],
      "metadata": {
        "colab": {
          "base_uri": "https://localhost:8080/"
        },
        "id": "had-xhqhYjfT",
        "outputId": "ecf3ca41-2309-4af7-b794-bb52e9e8fdac"
      },
      "execution_count": 6,
      "outputs": [
        {
          "output_type": "execute_result",
          "data": {
            "text/plain": [
              "<sqlite3.Cursor at 0x7c1974c0d7c0>"
            ]
          },
          "metadata": {},
          "execution_count": 6
        }
      ]
    },
    {
      "cell_type": "code",
      "source": [
        "conn.commit()"
      ],
      "metadata": {
        "id": "6QeRBiYJZjyF"
      },
      "execution_count": 7,
      "outputs": []
    },
    {
      "cell_type": "code",
      "source": [
        "conn.close()"
      ],
      "metadata": {
        "id": "15O2B80vZoNu"
      },
      "execution_count": 8,
      "outputs": []
    },
    {
      "cell_type": "code",
      "source": [
        "print(\"sales_data.db created successfully with sample data!\")"
      ],
      "metadata": {
        "colab": {
          "base_uri": "https://localhost:8080/"
        },
        "id": "6nc7IiTqZs2Z",
        "outputId": "9053fa7a-15d3-46e3-f30c-36c259baafa6"
      },
      "execution_count": 9,
      "outputs": [
        {
          "output_type": "stream",
          "name": "stdout",
          "text": [
            "sales_data.db created successfully with sample data!\n"
          ]
        }
      ]
    },
    {
      "cell_type": "code",
      "source": [
        "import pandas as pd"
      ],
      "metadata": {
        "id": "AjAgV5uJZ4eS"
      },
      "execution_count": 10,
      "outputs": []
    },
    {
      "cell_type": "code",
      "source": [
        "conn = sqlite3.connect('sales_data.db')"
      ],
      "metadata": {
        "id": "m628wiPna1j1"
      },
      "execution_count": 11,
      "outputs": []
    },
    {
      "cell_type": "code",
      "source": [
        "query = \"\"\"\n",
        "SELECT product,\n",
        "       SUM(quantity) AS total_quantity,\n",
        "       SUM(quantity * price) AS total_revenue\n",
        "FROM sales\n",
        "GROUP BY product\n",
        "\"\"\""
      ],
      "metadata": {
        "id": "GlAgy5hNa48l"
      },
      "execution_count": 12,
      "outputs": []
    },
    {
      "cell_type": "code",
      "source": [
        "# Run the query and load results into a DataFrame\n",
        "df = pd.read_sql_query(query, conn)"
      ],
      "metadata": {
        "id": "47YzeqBpbB0t"
      },
      "execution_count": 13,
      "outputs": []
    },
    {
      "cell_type": "code",
      "source": [
        "print(df)"
      ],
      "metadata": {
        "colab": {
          "base_uri": "https://localhost:8080/"
        },
        "id": "yY0bvtxabFz1",
        "outputId": "81e90d82-2a74-48ad-d772-0cde027da47d"
      },
      "execution_count": 14,
      "outputs": [
        {
          "output_type": "stream",
          "name": "stdout",
          "text": [
            "     product  total_quantity  total_revenue\n",
            "0  Product A              18          360.0\n",
            "1  Product B              12          180.0\n",
            "2  Product C              12          120.0\n"
          ]
        }
      ]
    },
    {
      "cell_type": "code",
      "source": [
        "conn.close()"
      ],
      "metadata": {
        "id": "gIwz5IdZbM76"
      },
      "execution_count": 15,
      "outputs": []
    },
    {
      "cell_type": "code",
      "source": [
        "import matplotlib.pyplot as plt\n",
        "\n",
        "df.plot(kind='bar', x='product', y='total_revenue', legend=False)\n",
        "\n",
        "plt.title('Revenue by Product')\n",
        "plt.ylabel('Total Revenue')\n",
        "plt.xlabel('Product')\n",
        "plt.tight_layout()\n",
        "\n",
        "plt.show()\n"
      ],
      "metadata": {
        "colab": {
          "base_uri": "https://localhost:8080/",
          "height": 487
        },
        "id": "cOZ_nkXObc4o",
        "outputId": "dbe33751-3eef-4d40-f98a-d91046312251"
      },
      "execution_count": 16,
      "outputs": [
        {
          "output_type": "display_data",
          "data": {
            "text/plain": [
              "<Figure size 640x480 with 1 Axes>"
            ],
            "image/png": "[encoded data removed]"
          },
          "metadata": {}
        }
      ]
    },
    {
      "cell_type": "code",
      "source": [
        "# Plot the bar chart\n",
        "ax = df.plot(kind='bar', x='product', y='total_revenue', legend=False, color='skyblue')\n",
        "plt.title('Revenue by Product')\n",
        "plt.ylabel('Total Revenue')\n",
        "plt.xlabel('Product')\n",
        "plt.tight_layout()\n",
        "\n",
        "for i, row in df.iterrows():\n",
        "    ax.text(i, row['total_revenue'] + 1, f\"Qty: {row['total_quantity']}\", ha='center', va='bottom')\n",
        "\n",
        "plt.show()\n"
      ],
      "metadata": {
        "colab": {
          "base_uri": "https://localhost:8080/",
          "height": 487
        },
        "id": "l7mjbnD8by4N",
        "outputId": "9b59af3f-f54f-4745-aa94-eb2c0c21eb64"
      },
      "execution_count": 17,
      "outputs": [
        {
          "output_type": "display_data",
          "data": {
            "text/plain": [
              "<Figure size 640x480 with 1 Axes>"
            ],
            "image/png": "[encoded data removed]"
          },
          "metadata": {}
        }
      ]
    },
    {
      "cell_type": "code",
      "source": [
        "df = df.sort_values(by='total_revenue', ascending=False)\n"
      ],
      "metadata": {
        "id": "tWxXoakxc4Kg"
      },
      "execution_count": 18,
      "outputs": []
    },
    {
      "cell_type": "code",
      "source": [],
      "metadata": {
        "id": "RpQf3E67dg3P"
      },
      "execution_count": null,
      "outputs": []
    },
    {
      "cell_type": "code",
      "source": [
        "print(df)"
      ],
      "metadata": {
        "colab": {
          "base_uri": "https://localhost:8080/"
        },
        "id": "y8J5E_aHdKFI",
        "outputId": "69829731-59b1-4406-d8a6-0908a8f66a71"
      },
      "execution_count": 22,
      "outputs": [
        {
          "output_type": "stream",
          "name": "stdout",
          "text": [
            "     product  total_quantity total_revenue\n",
            "0  Product A              18       ₹360.00\n",
            "1  Product B              12       ₹180.00\n",
            "2  Product C              12       ₹120.00\n"
          ]
        }
      ]
    },
    {
      "cell_type": "code",
      "source": [],
      "metadata": {
        "id": "tFAJS97idR28"
      },
      "execution_count": null,
      "outputs": []
    }
  ]
}